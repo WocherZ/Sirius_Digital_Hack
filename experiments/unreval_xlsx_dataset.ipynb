{
 "cells": [
  {
   "cell_type": "markdown",
   "metadata": {},
   "source": [
    "### Unravel table"
   ]
  },
  {
   "cell_type": "code",
   "execution_count": 1,
   "metadata": {},
   "outputs": [],
   "source": [
    "import pandas as pd\n",
    "import os"
   ]
  },
  {
   "cell_type": "code",
   "execution_count": 2,
   "metadata": {},
   "outputs": [],
   "source": [
    "def split_excel_to_csv(excel_file):\n",
    "    df = pd.read_excel(excel_file)\n",
    "    \n",
    "    output_folder = \"csv_files\"\n",
    "    os.makedirs(output_folder, exist_ok=True)\n",
    "    \n",
    "    for column in df.columns:\n",
    "        csv_file_name = os.path.join(output_folder, f\"{column}.csv\")\n",
    "        \n",
    "        data = df[[column]]\n",
    "        \n",
    "        data.to_csv(csv_file_name, index=False, header=[column])\n",
    "\n",
    "    print(f\"All columns are saved as CSV files in folder:'{output_folder}'.\")\n"
   ]
  },
  {
   "cell_type": "code",
   "execution_count": null,
   "metadata": {},
   "outputs": [],
   "source": [
    "excel_file = \"Data.xlsx\"\n",
    "split_excel_to_csv(excel_file)"
   ]
  }
 ],
 "metadata": {
  "kernelspec": {
   "display_name": "base",
   "language": "python",
   "name": "python3"
  },
  "language_info": {
   "codemirror_mode": {
    "name": "ipython",
    "version": 3
   },
   "file_extension": ".py",
   "mimetype": "text/x-python",
   "name": "python",
   "nbconvert_exporter": "python",
   "pygments_lexer": "ipython3",
   "version": "3.11.7"
  }
 },
 "nbformat": 4,
 "nbformat_minor": 2
}
